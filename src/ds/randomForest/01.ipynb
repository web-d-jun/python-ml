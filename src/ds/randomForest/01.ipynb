{
 "cells": [
  {
   "cell_type": "code",
   "execution_count": 39,
   "metadata": {},
   "outputs": [],
   "source": [
    "from sklearn.datasets import fetch_covtype\n",
    "from sklearn.model_selection import train_test_split\n",
    "from sklearn.preprocessing import MinMaxScaler\n",
    "import numpy as np\n",
    "\n",
    "covtype = fetch_covtype(shuffle=True, random_state=0)\n",
    "X = covtype.data\n",
    "y = covtype.target - 1\n",
    "classes = np.unique(y)\n",
    "\n",
    "X_train, X_test, y_train, y_test = train_test_split(X,y)\n",
    "scaler = MinMaxScaler()\n",
    "X_train = scaler.fit_transform(X_train)\n",
    "X_test = scaler.fit_transform(X_test)\n",
    "\n",
    "\n"
   ]
  },
  {
   "cell_type": "code",
   "execution_count": 63,
   "metadata": {},
   "outputs": [],
   "source": [
    "def read_Xy(start, end):\n",
    "    idx = list(range(start, min(len(y_train) - 1, end)))\n",
    "    X = X_train[idx, :]\n",
    "    y = y_train[idx]\n",
    "    return X, y\n"
   ]
  },
  {
   "cell_type": "code",
   "execution_count": 93,
   "metadata": {},
   "outputs": [
    {
     "name": "stdout",
     "output_type": "stream",
     "text": [
      "43575 435759\n",
      "epoch=0 train accuracy=0.866 test accuracy=0.848\n",
      "epoch=1 train accuracy=0.889 test accuracy=0.867\n",
      "epoch=2 train accuracy=0.895 test accuracy=0.872\n",
      "epoch=3 train accuracy=0.900 test accuracy=0.876\n",
      "epoch=4 train accuracy=0.903 test accuracy=0.879\n",
      "epoch=5 train accuracy=0.904 test accuracy=0.880\n",
      "epoch=6 train accuracy=0.905 test accuracy=0.881\n",
      "epoch=7 train accuracy=0.906 test accuracy=0.882\n",
      "epoch=8 train accuracy=0.906 test accuracy=0.882\n",
      "epoch=9 train accuracy=0.907 test accuracy=0.883\n",
      "CPU times: total: 1min 9s\n",
      "Wall time: 1min 11s\n"
     ]
    }
   ],
   "source": [
    "%%time\n",
    "\n",
    "from sklearn.ensemble import RandomForestClassifier\n",
    "from sklearn.model_selection import KFold\n",
    "from sklearn.metrics import accuracy_score\n",
    "\n",
    "\n",
    "\n",
    "n_split = 10\n",
    "n_X = len(y_train) // n_split\n",
    "print(n_X, len(y_train))\n",
    "num_tree_ini = 10\n",
    "num_tree_step = 10\n",
    "model = RandomForestClassifier(n_estimators=num_tree_ini, warm_start=True)\n",
    "\n",
    "\n",
    "for n in range(n_split):\n",
    "    X, y = read_Xy(n * n_X, (n + 1) * n_X)\n",
    "\n",
    "    model.fit(X, y)\n",
    "    accuracy_train = accuracy_score(y_train, model.predict(X_train))\n",
    "    accuracy_test = accuracy_score(y_test, model.predict(X_test))\n",
    "    print(\"epoch={:d} train accuracy={:5.3f} test accuracy={:5.3f}\".format(n, accuracy_train, accuracy_test))\n",
    "\n",
    "    model.n_estimators += num_tree_step"
   ]
  }
 ],
 "metadata": {
  "kernelspec": {
   "display_name": "Python 3.9.12 ('sklearn1.1')",
   "language": "python",
   "name": "python3"
  },
  "language_info": {
   "codemirror_mode": {
    "name": "ipython",
    "version": 3
   },
   "file_extension": ".py",
   "mimetype": "text/x-python",
   "name": "python",
   "nbconvert_exporter": "python",
   "pygments_lexer": "ipython3",
   "version": "3.9.12"
  },
  "orig_nbformat": 4,
  "vscode": {
   "interpreter": {
    "hash": "9720f2c0a5fb07196a9441b0d7f13d8f98b4e4557b919c0543106eefd2c02f5c"
   }
  }
 },
 "nbformat": 4,
 "nbformat_minor": 2
}
