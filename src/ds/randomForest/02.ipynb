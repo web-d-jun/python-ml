{
 "cells": [
  {
   "cell_type": "code",
   "execution_count": null,
   "metadata": {},
   "outputs": [],
   "source": []
  }
 ],
 "metadata": {
  "kernelspec": {
   "display_name": "Python 3.8.13 ('py38')",
   "language": "python",
   "name": "python3"
  },
  "language_info": {
   "name": "python",
   "version": "3.8.13"
  },
  "orig_nbformat": 4,
  "vscode": {
   "interpreter": {
    "hash": "a570dedfbda585c6ec6045193aed6d5d46c787d1787ff4dc0a01ac23261a8ae5"
   }
  }
 },
 "nbformat": 4,
 "nbformat_minor": 2
}
