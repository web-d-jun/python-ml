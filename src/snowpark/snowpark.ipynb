{
 "cells": [
  {
   "cell_type": "code",
   "execution_count": 4,
   "id": "75ac5a9f",
   "metadata": {},
   "outputs": [],
   "source": [
    "import os\n",
    "from snowflake.snowpark import Session\n",
    "\n",
    "connection_parameters = {\n",
    "    \"account\": \"nb49150.ap-northeast-2.aws\",\n",
    "    \"user\": \"admin\",\n",
    "    \"password\": \"arPassword1@\",\n",
    "    \"role\": \"SYSADMIN\",\n",
    "    \"warehouse\": \"ACCURATOR\",\n",
    "    \"database\": \"ACCTESTDB\",\n",
    "    \"schema\": \"ACCTEST\"\n",
    "}\n",
    "\n",
    "test_session = Session.builder.configs(connection_parameters).create()"
   ]
  },
  {
   "cell_type": "code",
   "execution_count": 5,
   "id": "905a22c8",
   "metadata": {},
   "outputs": [
    {
     "name": "stdout",
     "output_type": "stream",
     "text": [
      "[Row(CURRENT_WAREHOUSE()='ACCURATOR', CURRENT_DATABASE()='ACCTESTDB', CURRENT_SCHEMA()='ACCTEST')]\n"
     ]
    }
   ],
   "source": [
    "print(test_session.sql(\"select current_warehouse(), current_database(), current_schema()\").collect())\n",
    "test_session.close()"
   ]
  }
 ],
 "metadata": {
  "kernelspec": {
   "display_name": "Python 3.8.13 ('snowflake')",
   "language": "python",
   "name": "python3"
  },
  "language_info": {
   "codemirror_mode": {
    "name": "ipython",
    "version": 3
   },
   "file_extension": ".py",
   "mimetype": "text/x-python",
   "name": "python",
   "nbconvert_exporter": "python",
   "pygments_lexer": "ipython3",
   "version": "3.8.13"
  },
  "vscode": {
   "interpreter": {
    "hash": "7b9df2fe6216b1d6b707471a6cb02149b82ffef3bc29e02913d298c2a25c3a06"
   }
  }
 },
 "nbformat": 4,
 "nbformat_minor": 5
}
