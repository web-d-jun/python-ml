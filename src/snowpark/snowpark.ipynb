{
 "cells": [
  {
   "cell_type": "code",
   "execution_count": null,
   "id": "75ac5a9f",
   "metadata": {},
   "outputs": [],
   "source": [
    "from snowflake.snowpark import Session\n",
    "import pandas as pd\n",
    "from snowflake.snowpark.functions import udf\n",
    "\n",
    "connection_parameters = {\n",
    "    \"account\": \"nb49150.ap-northeast-2.aws\",\n",
    "    \"user\": \"admin\",\n",
    "    \"password\": \"arPassword1@\",\n",
    "    \"role\": \"SYSADMIN\",\n",
    "    \"warehouse\": \"ACCURATOR\",\n",
    "    \"database\": \"ACCTESTDB\",\n",
    "    \"schema\": \"CJY8745_GMAIL_COM\"\n",
    "}\n",
    "\n",
    "session = Session.builder.configs(connection_parameters).create()\n",
    "\n",
    "# session.sql(\"create or replace stage pythonudfstage\").collect()\n",
    "# session.sql(\"create or replace stage pythonsourcestage\").collect()\n",
    "# # session.file.put(\"utils/Numops.py\", \"@pythonsourcestage\", auto_compress=False,overwrite=True)\n",
    "# df = session.create_dataframe([[10,20],[30,40],[60,70]], schema=[\"Col1\",\"Col2\"])\n",
    "# df.toPandas()\n",
    "\n",
    "print(session)"
   ]
  },
  {
   "cell_type": "code",
   "execution_count": null,
   "id": "88ba43fd",
   "metadata": {},
   "outputs": [],
   "source": [
    "from snowflake.snowpark.types import IntegerType\n",
    "def udf1(x:int) -> int:\n",
    "    return x+1\n",
    "\n",
    "session.udf.register(udf1, name='ADD2', return_type=IntegerType(), input_types=[IntegerType()], is_permanent=False)\n",
    "\n"
   ]
  },
  {
   "cell_type": "code",
   "execution_count": null,
   "id": "afafb596",
   "metadata": {},
   "outputs": [],
   "source": [
    "return_value = session.sql(\"select ADD2(10)\").collect()\n",
    "\n",
    "print(return_value)"
   ]
  },
  {
   "cell_type": "code",
   "execution_count": null,
   "id": "9fb918c4",
   "metadata": {},
   "outputs": [],
   "source": [
    "# session.sql('CREATE OR REPLACE TABLE sample_product_data (id INT, parent_id INT, category_id INT, name VARCHAR, serial_number VARCHAR, key INT, \"3rd\" INT)').collect()"
   ]
  },
  {
   "cell_type": "code",
   "execution_count": null,
   "id": "61afd46b",
   "metadata": {},
   "outputs": [],
   "source": [
    "# session.sql(\"\"\"\n",
    "# INSERT INTO sample_product_data VALUES\n",
    "# (1, 0, 5, 'Product 1', 'prod-1', 1, 10),\n",
    "# (2, 1, 5, 'Product 1A', 'prod-1-A', 1, 20),\n",
    "# (3, 1, 5, 'Product 1B', 'prod-1-B', 1, 30),\n",
    "# (4, 0, 10, 'Product 2', 'prod-2', 2, 40),\n",
    "# (5, 4, 10, 'Product 2A', 'prod-2-A', 2, 50),\n",
    "# (6, 4, 10, 'Product 2B', 'prod-2-B', 2, 60),\n",
    "# (7, 0, 20, 'Product 3', 'prod-3', 3, 70),\n",
    "# (8, 7, 20, 'Product 3A', 'prod-3-A', 3, 80),\n",
    "# (9, 7, 20, 'Product 3B', 'prod-3-B', 3, 90),\n",
    "# (10, 0, 50, 'Product 4', 'prod-4', 4, 100),\n",
    "# (11, 10, 50, 'Product 4A', 'prod-4-A', 4, 100),w -\n",
    "# (12, 10, 50, 'Product 4B', 'prod-4-B', 4, 100)\n",
    "# \"\"\").collect()"
   ]
  },
  {
   "cell_type": "code",
   "execution_count": null,
   "id": "169d3eec",
   "metadata": {},
   "outputs": [],
   "source": [
    "session.sql(\"SELECT count(*) FROM sample_product_data\").collect()"
   ]
  },
  {
   "cell_type": "code",
   "execution_count": null,
   "id": "f8941268",
   "metadata": {},
   "outputs": [],
   "source": [
    "df_table = session.table(\"sample_product_data\")"
   ]
  },
  {
   "cell_type": "code",
   "execution_count": null,
   "id": "af4a0767",
   "metadata": {},
   "outputs": [],
   "source": [
    "df_table.show()"
   ]
  },
  {
   "cell_type": "code",
   "execution_count": 16,
   "id": "2dd14877",
   "metadata": {},
   "outputs": [
    {
     "data": {
      "text/plain": [
       "<snowflake.snowpark.udf.UserDefinedFunction at 0x1dfa6463f40>"
      ]
     },
     "execution_count": 16,
     "metadata": {},
     "output_type": "execute_result"
    }
   ],
   "source": [
    "from snowflake.snowpark.types import IntegerType\n",
    "add_one = udf(lambda x: x+1, return_type=IntegerType(), input_types=[IntegerType()])\n",
    "add_one"
   ]
  },
  {
   "cell_type": "code",
   "execution_count": 19,
   "id": "b51d317c",
   "metadata": {},
   "outputs": [],
   "source": [
    "@udf(name=\"minus_one\", is_permanent=True, stage_location=\"@my_stage\", replace=True)\n",
    "def minus_one(x: int) -> int:\n",
    "    return x-1"
   ]
  },
  {
   "cell_type": "code",
   "execution_count": null,
   "metadata": {},
   "outputs": [],
   "source": [
    "session.close()"
   ]
  }
 ],
 "metadata": {
  "kernelspec": {
   "display_name": "Python 3.8.13 ('snowflake')",
   "language": "python",
   "name": "python3"
  },
  "language_info": {
   "codemirror_mode": {
    "name": "ipython",
    "version": 3
   },
   "file_extension": ".py",
   "mimetype": "text/x-python",
   "name": "python",
   "nbconvert_exporter": "python",
   "pygments_lexer": "ipython3",
   "version": "3.8.13"
  },
  "vscode": {
   "interpreter": {
    "hash": "7b9df2fe6216b1d6b707471a6cb02149b82ffef3bc29e02913d298c2a25c3a06"
   }
  }
 },
 "nbformat": 4,
 "nbformat_minor": 5
}
