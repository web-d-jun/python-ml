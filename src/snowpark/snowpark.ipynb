{
 "cells": [
  {
   "cell_type": "code",
   "execution_count": 1,
   "id": "75ac5a9f",
   "metadata": {},
   "outputs": [
    {
     "name": "stdout",
     "output_type": "stream",
     "text": [
      "<snowflake.snowpark.session.Session object at 0x000001C2A1076CA0>\n"
     ]
    }
   ],
   "source": [
    "from snowflake.snowpark import Session\n",
    "import pandas as pd\n",
    "from snowflake.snowpark.functions import udf\n",
    "\n",
    "connection_parameters = {\n",
    "    \"account\": \"nb49150.ap-northeast-2.aws\",\n",
    "    \"user\": \"admin\",\n",
    "    \"password\": \"arPassword1@\",\n",
    "    \"role\": \"SYSADMIN\",\n",
    "    \"warehouse\": \"ACCURATOR\",\n",
    "    \"database\": \"ACCTESTDB\",\n",
    "    \"schema\": \"CJY8745_GMAIL_COM\"\n",
    "}\n",
    "\n",
    "session = Session.builder.configs(connection_parameters).create()\n",
    "\n",
    "# session.sql(\"create or replace stage pythonudfstage\").collect()\n",
    "# session.sql(\"create or replace stage pythonsourcestage\").collect()\n",
    "# # session.file.put(\"utils/Numops.py\", \"@pythonsourcestage\", auto_compress=False,overwrite=True)\n",
    "# df = session.create_dataframe([[10,20],[30,40],[60,70]], schema=[\"Col1\",\"Col2\"])\n",
    "# df.toPandas()\n",
    "\n",
    "print(session)"
   ]
  },
  {
   "cell_type": "code",
   "execution_count": 2,
   "id": "2dd14877",
   "metadata": {},
   "outputs": [],
   "source": [
    "# from snowflake.snowpark.types import IntegerType\n",
    "# add_one = udf(lambda x: x+1, return_type=IntegerType(), input_types=[IntegerType()])\n",
    "# add_one"
   ]
  },
  {
   "cell_type": "code",
   "execution_count": 5,
   "id": "b51d317c",
   "metadata": {},
   "outputs": [],
   "source": [
    "@udf(name=\"minus_one\", is_permanent=True, stage_location=\"@my_stage\", replace=True)\n",
    "def minus_one(x: int) -> int:\n",
    "    return x-1"
   ]
  },
  {
   "cell_type": "code",
   "execution_count": 7,
   "id": "9b1bd754",
   "metadata": {},
   "outputs": [],
   "source": [
    "session.sql(\"select minus_one(2)\").collect()\n",
    "\n",
    "session.add_import('./test_01.pkl')"
   ]
  },
  {
   "cell_type": "code",
   "execution_count": 10,
   "id": "0e0dfead",
   "metadata": {},
   "outputs": [
    {
     "name": "stdout",
     "output_type": "stream",
     "text": [
      "['c:\\\\dev\\\\python\\\\src\\\\snowpark\\\\test_01.pkl']\n"
     ]
    }
   ],
   "source": [
    "'''\n",
    "1.fit 모델을 여러개 만들어서 서버 경로에 저장\n",
    "2.예측 데이터 활용\n",
    "'''\n",
    "print(session.get_imports())"
   ]
  },
  {
   "cell_type": "code",
   "execution_count": null,
   "metadata": {},
   "outputs": [],
   "source": [
    "session.close()"
   ]
  }
 ],
 "metadata": {
  "kernelspec": {
   "display_name": "Python 3.8.13 ('snowflake')",
   "language": "python",
   "name": "python3"
  },
  "language_info": {
   "codemirror_mode": {
    "name": "ipython",
    "version": 3
   },
   "file_extension": ".py",
   "mimetype": "text/x-python",
   "name": "python",
   "nbconvert_exporter": "python",
   "pygments_lexer": "ipython3",
   "version": "3.8.13"
  },
  "vscode": {
   "interpreter": {
    "hash": "7b9df2fe6216b1d6b707471a6cb02149b82ffef3bc29e02913d298c2a25c3a06"
   }
  }
 },
 "nbformat": 4,
 "nbformat_minor": 5
}
