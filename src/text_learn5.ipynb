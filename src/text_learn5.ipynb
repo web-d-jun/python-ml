{
 "cells": [
  {
   "cell_type": "code",
   "execution_count": 8,
   "metadata": {},
   "outputs": [
    {
     "name": "stdout",
     "output_type": "stream",
     "text": [
      "Model: \"sequential_7\"\n",
      "_________________________________________________________________\n",
      "Layer (type)                 Output Shape              Param #   \n",
      "=================================================================\n",
      "simple_rnn_11 (SimpleRNN)    (8, 2, 3)                 42        \n",
      "=================================================================\n",
      "Total params: 42\n",
      "Trainable params: 42\n",
      "Non-trainable params: 0\n",
      "_________________________________________________________________\n"
     ]
    }
   ],
   "source": [
    "from tensorflow.keras.models import Sequential\n",
    "from tensorflow.keras.layers import SimpleRNN\n",
    "\n",
    "model = Sequential()\n",
    "model.add(SimpleRNN(3, batch_input_shape=(8,2,10), return_sequences=True))\n",
    "model.summary()"
   ]
  },
  {
   "cell_type": "code",
   "execution_count": 114,
   "metadata": {},
   "outputs": [
    {
     "name": "stdout",
     "output_type": "stream",
     "text": [
      "[[0.51934522 0.52219653 0.3068383  0.60519782]\n",
      " [0.27818608 0.61649596 0.96719814 0.80470354]\n",
      " [0.12790928 0.67685479 0.88143731 0.39026095]\n",
      " [0.92331672 0.46493794 0.19177105 0.31896353]\n",
      " [0.46199471 0.71692669 0.12857274 0.0497545 ]\n",
      " [0.79942763 0.56792586 0.65820331 0.05850912]\n",
      " [0.67750374 0.13916416 0.72391966 0.70226267]\n",
      " [0.63438886 0.50537554 0.08443341 0.44220011]\n",
      " [0.24722578 0.81692898 0.31070611 0.59082416]\n",
      " [0.49371902 0.07336783 0.129965   0.6005984 ]]\n",
      "====================================================================================================\n",
      "[0. 0. 0. 0. 0. 0. 0. 0.]\n"
     ]
    }
   ],
   "source": [
    "import numpy as np\n",
    "\n",
    "timesteps = 10\n",
    "input_dim = 4\n",
    "hidden_units = 8\n",
    "\n",
    "inputs = np.random.random((timesteps, input_dim))\n",
    "print(inputs)\n",
    "print('='*100)\n",
    "hidden_state_t = np.zeros((hidden_units,))\n",
    "print(hidden_state_t)"
   ]
  },
  {
   "cell_type": "code",
   "execution_count": 97,
   "metadata": {},
   "outputs": [
    {
     "name": "stdout",
     "output_type": "stream",
     "text": [
      "[0.49795314 0.86180741 0.07169279 0.14391862 0.46109477 0.13962422\n",
      " 0.90184961 0.20607008]\n",
      "가중치 Wx의 크기(shape) : (8, 4)\n",
      "가중치 Wh의 크기(shape) : (8, 8)\n",
      "편향의 크기(shape) : (8,)\n"
     ]
    }
   ],
   "source": [
    "Wx = np.random.random((hidden_units,input_dim))\n",
    "Wh = np.random.random((hidden_units,hidden_units))\n",
    "b = np.random.random((hidden_units))\n",
    "print('가중치 Wx의 크기(shape) :',np.shape(Wx))\n",
    "print('가중치 Wh의 크기(shape) :',np.shape(Wh))\n",
    "print('편향의 크기(shape) :',np.shape(b))"
   ]
  },
  {
   "cell_type": "code",
   "execution_count": 119,
   "metadata": {},
   "outputs": [
    {
     "name": "stdout",
     "output_type": "stream",
     "text": [
      "모든 시점의 은닉 상태 :\n",
      "[[0.99999553 0.99994852 0.99996558 0.99999548 0.99998535 0.99955669\n",
      "  0.99998998 0.99999798]\n",
      " [0.9999988  0.99998209 0.99997761 0.99999542 0.99999005 0.99986841\n",
      "  0.99999092 0.99999834]\n",
      " [0.99999839 0.99997114 0.99993803 0.99998867 0.99997928 0.99980559\n",
      "  0.9999849  0.99999762]\n",
      " [0.99999352 0.99994025 0.99996261 0.99999614 0.99998684 0.99953694\n",
      "  0.99999289 0.99999869]\n",
      " [0.99999436 0.99991902 0.99989866 0.99998834 0.9999691  0.99929345\n",
      "  0.99998749 0.99999769]\n",
      " [0.99999702 0.99996462 0.99994485 0.99999308 0.99998504 0.99978662\n",
      "  0.99999211 0.99999885]\n",
      " [0.99999555 0.99996011 0.99997343 0.99999665 0.99998974 0.99978714\n",
      "  0.99998687 0.99999808]\n",
      " [0.99999293 0.99992467 0.99995492 0.99999503 0.99998228 0.99933406\n",
      "  0.99998977 0.99999794]\n",
      " [0.99999734 0.99995795 0.99996001 0.99999349 0.99998202 0.99954218\n",
      "  0.99999075 0.99999783]\n",
      " [0.99998544 0.99987013 0.99994111 0.99999447 0.99997706 0.99916787\n",
      "  0.99997356 0.99999573]]\n"
     ]
    }
   ],
   "source": [
    "total_hidden_states = []\n",
    "\n",
    "for input_t in inputs:\n",
    "    #ht = Wx * Xt + Wh * Ht-1 + b\n",
    "    # print(input_t)\n",
    "    out_t = np.tanh(np.dot(Wx,input_t) + np.dot(Wh, hidden_state_t) + b)\n",
    "    \n",
    "    \n",
    "    total_hidden_states.append(list(out_t))\n",
    "    hidden_state_t = out_t\n",
    "    \n",
    "total_hidden_states = np.stack(total_hidden_states, axis=0)\n",
    "# (timesteps, output_dim)\n",
    "print('모든 시점의 은닉 상태 :')\n",
    "print(total_hidden_states)\n"
   ]
  },
  {
   "cell_type": "code",
   "execution_count": 120,
   "metadata": {},
   "outputs": [],
   "source": [
    "model = Sequential()\n",
    "model.add(SimpleRNN(hidden_units, input_length=10, input_dim=5, return_sequences=True))\n",
    "model.add(SimpleRNN(hidden_units, return_sequences=True))"
   ]
  },
  {
   "cell_type": "code",
   "execution_count": 123,
   "metadata": {},
   "outputs": [],
   "source": [
    "from tensorflow.keras.layers import Bidirectional, Embedding, Dense\n",
    "timesteps = 10 #input length\n",
    "input_dim = 5\n",
    "\n",
    "model = Sequential()\n",
    "model.add(Bidirectional(SimpleRNN(hidden_units, return_sequences=True), input_shape=(timesteps, input_dim)))\n",
    "\n"
   ]
  },
  {
   "cell_type": "code",
   "execution_count": 126,
   "metadata": {},
   "outputs": [
    {
     "name": "stdout",
     "output_type": "stream",
     "text": [
      "Model: \"sequential_14\"\n",
      "_________________________________________________________________\n",
      "Layer (type)                 Output Shape              Param #   \n",
      "=================================================================\n",
      "embedding_2 (Embedding)      (None, None, 100)         500000    \n",
      "_________________________________________________________________\n",
      "simple_rnn_19 (SimpleRNN)    (None, 128)               29312     \n",
      "_________________________________________________________________\n",
      "dense_2 (Dense)              (None, 1)                 129       \n",
      "=================================================================\n",
      "Total params: 529,441\n",
      "Trainable params: 529,441\n",
      "Non-trainable params: 0\n",
      "_________________________________________________________________\n"
     ]
    }
   ],
   "source": [
    "vocab_size = 5000\n",
    "embedding_dim = 100\n",
    "hidden_units = 128\n",
    "b= 1\n",
    "\n",
    "model = Sequential()\n",
    "model.add(Embedding(vocab_size, embedding_dim))\n",
    "model.add(SimpleRNN(hidden_units))\n",
    "model.add(Dense(1, activation='sigmoid'))\n",
    "model.summary()"
   ]
  },
  {
   "cell_type": "code",
   "execution_count": 251,
   "metadata": {},
   "outputs": [
    {
     "name": "stdout",
     "output_type": "stream",
     "text": [
      "hidden state: [[[-0.9986801  -0.85428095  0.99890846]\n",
      "  [-0.99934036  0.5494923   0.9948631 ]\n",
      "  [-0.9533791  -0.01486525  0.98745185]\n",
      "  [-0.9965948   0.9881755   0.94507617]]], shape: (1, 4, 3)\n"
     ]
    }
   ],
   "source": [
    "import numpy as np\n",
    "import tensorflow as tf\n",
    "from tensorflow.keras.layers import SimpleRNN, LSTM, Bidirectional\n",
    "\n",
    "train_X = [[[0.1, 4.2, 1.5, 1.1, 2.8], [1.0, 3.1, 2.5, 0.7, 1.1], [0.3, 2.1, 1.5, 2.1, 0.1], [2.2, 1.4, 0.5, 0.9, 1.1]]]\n",
    "\n",
    "train_X = np.array(train_X, dtype=np.float32)\n",
    "hidden_units = 3\n",
    "rnn = SimpleRNN(hidden_units, return_sequences=True)\n",
    "hidden_state = rnn(train_X)\n",
    "\n",
    "print('hidden state: {}, shape: {}'.format(hidden_state, hidden_state.shape))\n"
   ]
  },
  {
   "cell_type": "code",
   "execution_count": 252,
   "metadata": {},
   "outputs": [],
   "source": [
    "lstm = LSTM(hidden_units)"
   ]
  }
 ],
 "metadata": {
  "kernelspec": {
   "display_name": "Python 3.8.13 ('py38')",
   "language": "python",
   "name": "python3"
  },
  "language_info": {
   "codemirror_mode": {
    "name": "ipython",
    "version": 3
   },
   "file_extension": ".py",
   "mimetype": "text/x-python",
   "name": "python",
   "nbconvert_exporter": "python",
   "pygments_lexer": "ipython3",
   "version": "3.8.13"
  },
  "orig_nbformat": 4,
  "vscode": {
   "interpreter": {
    "hash": "a570dedfbda585c6ec6045193aed6d5d46c787d1787ff4dc0a01ac23261a8ae5"
   }
  }
 },
 "nbformat": 4,
 "nbformat_minor": 2
}
