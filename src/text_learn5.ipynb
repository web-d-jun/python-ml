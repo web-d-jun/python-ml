{
 "cells": [
  {
   "cell_type": "code",
   "execution_count": 1,
   "metadata": {},
   "outputs": [
    {
     "name": "stdout",
     "output_type": "stream",
     "text": [
      "Model: \"sequential\"\n",
      "_________________________________________________________________\n",
      "Layer (type)                 Output Shape              Param #   \n",
      "=================================================================\n",
      "simple_rnn (SimpleRNN)       (8, 2, 3)                 42        \n",
      "_________________________________________________________________\n",
      "simple_rnn_1 (SimpleRNN)     (8, 2, 3)                 21        \n",
      "_________________________________________________________________\n",
      "simple_rnn_2 (SimpleRNN)     (8, 2, 3)                 21        \n",
      "_________________________________________________________________\n",
      "simple_rnn_3 (SimpleRNN)     (8, 2, 3)                 21        \n",
      "_________________________________________________________________\n",
      "simple_rnn_4 (SimpleRNN)     (8, 2, 3)                 21        \n",
      "=================================================================\n",
      "Total params: 126\n",
      "Trainable params: 126\n",
      "Non-trainable params: 0\n",
      "_________________________________________________________________\n"
     ]
    }
   ],
   "source": [
    "from tensorflow.keras.layers import SimpleRNN, Bidirectional\n",
    "from tensorflow.keras.models import Sequential\n",
    "\n",
    "\n",
    "hidden_units = 3\n",
    "model = Sequential()\n",
    "model.add(SimpleRNN(hidden_units, batch_input_shape=(8,2,10), return_sequences=True))\n",
    "model.add(SimpleRNN(hidden_units, return_sequences=True))\n",
    "model.add(SimpleRNN(hidden_units, return_sequences=True))\n",
    "model.add(SimpleRNN(hidden_units, return_sequences=True))\n",
    "model.add(SimpleRNN(hidden_units, return_sequences=True))\n",
    "\n",
    "model.summary()"
   ]
  }
 ],
 "metadata": {
  "kernelspec": {
   "display_name": "Python 3.8.13 ('py38')",
   "language": "python",
   "name": "python3"
  },
  "language_info": {
   "codemirror_mode": {
    "name": "ipython",
    "version": 3
   },
   "file_extension": ".py",
   "mimetype": "text/x-python",
   "name": "python",
   "nbconvert_exporter": "python",
   "pygments_lexer": "ipython3",
   "version": "3.8.13"
  },
  "orig_nbformat": 4,
  "vscode": {
   "interpreter": {
    "hash": "a570dedfbda585c6ec6045193aed6d5d46c787d1787ff4dc0a01ac23261a8ae5"
   }
  }
 },
 "nbformat": 4,
 "nbformat_minor": 2
}
