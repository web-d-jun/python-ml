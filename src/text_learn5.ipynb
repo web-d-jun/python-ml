{
 "cells": [
  {
   "cell_type": "code",
   "execution_count": 19,
   "metadata": {},
   "outputs": [
    {
     "name": "stdout",
     "output_type": "stream",
     "text": [
      "Model: \"sequential_17\"\n",
      "_________________________________________________________________\n",
      "Layer (type)                 Output Shape              Param #   \n",
      "=================================================================\n",
      "simple_rnn_27 (SimpleRNN)    (8, 2, 3)                 42        \n",
      "_________________________________________________________________\n",
      "simple_rnn_28 (SimpleRNN)    (8, 2, 3)                 21        \n",
      "_________________________________________________________________\n",
      "simple_rnn_29 (SimpleRNN)    (8, 2, 3)                 21        \n",
      "_________________________________________________________________\n",
      "simple_rnn_30 (SimpleRNN)    (8, 2, 3)                 21        \n",
      "_________________________________________________________________\n",
      "simple_rnn_31 (SimpleRNN)    (8, 2, 3)                 21        \n",
      "=================================================================\n",
      "Total params: 126\n",
      "Trainable params: 126\n",
      "Non-trainable params: 0\n",
      "_________________________________________________________________\n"
     ]
    }
   ],
   "source": [
    "from tensorflow.keras.layers import SimpleRNN, Bidirectional\n",
    "from tensorflow.keras.models import Sequential\n",
    "\n",
    "\n",
    "hidden_units = 3\n",
    "model = Sequential()\n",
    "model.add(SimpleRNN(hidden_units, batch_input_shape=(8,2,10), return_sequences=True))\n",
    "model.add(SimpleRNN(hidden_units, return_sequences=True))\n",
    "model.add(SimpleRNN(hidden_units, return_sequences=True))\n",
    "model.add(SimpleRNN(hidden_units, return_sequences=True))\n",
    "model.add(SimpleRNN(hidden_units, return_sequences=True))\n",
    "\n",
    "model.summary() "
   ]
  }
 ],
 "metadata": {
  "kernelspec": {
   "display_name": "Python 3.8.13 ('nlp')",
   "language": "python",
   "name": "python3"
  },
  "language_info": {
   "name": "python",
   "version": "3.8.13"
  },
  "orig_nbformat": 4,
  "vscode": {
   "interpreter": {
    "hash": "554b0482449d95cffd9d26428254b70614380a32f3da72e884a7f68adc1c2e12"
   }
  }
 },
 "nbformat": 4,
 "nbformat_minor": 2
}
