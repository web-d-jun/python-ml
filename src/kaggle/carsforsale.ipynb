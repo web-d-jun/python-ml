{
 "cells": [
  {
   "cell_type": "code",
   "execution_count": 660,
   "metadata": {},
   "outputs": [
    {
     "name": "stdout",
     "output_type": "stream",
     "text": [
      "<class 'pandas.core.frame.DataFrame'>\n",
      "RangeIndex: 9379 entries, 0 to 9378\n",
      "Data columns (total 32 columns):\n",
      " #   Column                 Non-Null Count  Dtype  \n",
      "---  ------                 --------------  -----  \n",
      " 0   Year                   9379 non-null   int64  \n",
      " 1   Make                   9379 non-null   object \n",
      " 2   Model                  9379 non-null   object \n",
      " 3   Used/New               9379 non-null   object \n",
      " 4   Price                  9379 non-null   object \n",
      " 5   ConsumerRating         9379 non-null   float64\n",
      " 6   ConsumerReviews        9379 non-null   int64  \n",
      " 7   SellerType             9379 non-null   object \n",
      " 8   SellerName             9379 non-null   object \n",
      " 9   SellerRating           9379 non-null   float64\n",
      " 10  SellerReviews          9379 non-null   int64  \n",
      " 11  StreetName             9379 non-null   object \n",
      " 12  State                  9379 non-null   object \n",
      " 13  Zipcode                9379 non-null   object \n",
      " 14  DealType               9157 non-null   object \n",
      " 15  ComfortRating          9379 non-null   float64\n",
      " 16  InteriorDesignRating   9379 non-null   float64\n",
      " 17  PerformanceRating      9379 non-null   float64\n",
      " 18  ValueForMoneyRating    9379 non-null   float64\n",
      " 19  ExteriorStylingRating  9379 non-null   float64\n",
      " 20  ReliabilityRating      9379 non-null   float64\n",
      " 21  ExteriorColor          9379 non-null   object \n",
      " 22  InteriorColor          9379 non-null   object \n",
      " 23  Drivetrain             9379 non-null   object \n",
      " 24  MinMPG                 9379 non-null   int64  \n",
      " 25  MaxMPG                 9379 non-null   int64  \n",
      " 26  FuelType               9379 non-null   object \n",
      " 27  Transmission           9379 non-null   object \n",
      " 28  Engine                 9379 non-null   object \n",
      " 29  VIN                    9379 non-null   object \n",
      " 30  Stock#                 9379 non-null   object \n",
      " 31  Mileage                9379 non-null   int64  \n",
      "dtypes: float64(8), int64(6), object(18)\n",
      "memory usage: 2.3+ MB\n"
     ]
    }
   ],
   "source": [
    "import pandas as pd\n",
    "import numpy as np\n",
    "from sklearn.preprocessing import LabelEncoder\n",
    "\n",
    "df = pd.read_csv('./input/cars_raw.csv')\n",
    "df.info()"
   ]
  },
  {
   "cell_type": "code",
   "execution_count": 661,
   "metadata": {},
   "outputs": [
    {
     "name": "stdout",
     "output_type": "stream",
     "text": [
      "(9379, 32)\n"
     ]
    }
   ],
   "source": [
    "print(df.shape)\n",
    "df = df[df['Price'] != 'Not Priced' ]\n",
    "df['Price'] = [price.replace('$','') for price in df['Price']]\n",
    "df['Price'] = [int(price.replace(',','')) for price in df['Price']]"
   ]
  },
  {
   "cell_type": "code",
   "execution_count": 662,
   "metadata": {},
   "outputs": [],
   "source": [
    "df['Used/New'] = ['Certified Pre-Owned' if 'certified' in item.casefold()\n",
    "                  else 'Used' for item in df['Used/New']]"
   ]
  },
  {
   "cell_type": "code",
   "execution_count": 663,
   "metadata": {},
   "outputs": [
    {
     "data": {
      "text/plain": [
       "array(['Used', 'Certified Pre-Owned'], dtype=object)"
      ]
     },
     "execution_count": 663,
     "metadata": {},
     "output_type": "execute_result"
    }
   ],
   "source": [
    "df['Used/New'].unique()"
   ]
  },
  {
   "cell_type": "code",
   "execution_count": 664,
   "metadata": {},
   "outputs": [
    {
     "data": {
      "text/plain": [
       "array(['Front-wheel Drive', 'Four-wheel Drive', 'Rear-wheel Drive',\n",
       "       'All-wheel Drive', '4WD', 'AWD', 'RWD', 'FWD', 'Front Wheel Drive',\n",
       "       '–'], dtype=object)"
      ]
     },
     "execution_count": 664,
     "metadata": {},
     "output_type": "execute_result"
    }
   ],
   "source": [
    "df['Drivetrain'].unique()"
   ]
  },
  {
   "cell_type": "code",
   "execution_count": 665,
   "metadata": {},
   "outputs": [],
   "source": [
    "df = df[df['Drivetrain'] != '–']"
   ]
  },
  {
   "cell_type": "code",
   "execution_count": 666,
   "metadata": {},
   "outputs": [],
   "source": [
    "df['Drivetrain'] = ['4WD' if 'four' in item.casefold()\n",
    "                   else 'AWD' if 'all' in item.casefold()\n",
    "                   else 'RWD' if 'rear' in item.casefold()\n",
    "                   else 'FWD' for item in df['Drivetrain']]"
   ]
  },
  {
   "cell_type": "code",
   "execution_count": 667,
   "metadata": {},
   "outputs": [
    {
     "data": {
      "text/plain": [
       "array(['FWD', '4WD', 'RWD', 'AWD'], dtype=object)"
      ]
     },
     "execution_count": 667,
     "metadata": {},
     "output_type": "execute_result"
    }
   ],
   "source": [
    "df['Drivetrain'].unique()"
   ]
  },
  {
   "cell_type": "code",
   "execution_count": 668,
   "metadata": {},
   "outputs": [
    {
     "data": {
      "text/plain": [
       "array(['Gasoline', 'Gasoline Fuel', 'Electric Fuel System',\n",
       "       'E85 Flex Fuel', 'Electric', 'Hybrid', 'Plug-In Electric/Gas',\n",
       "       'Flex Fuel Capability', 'Diesel', 'Diesel Fuel',\n",
       "       'Gasoline/Mild Electric Hybrid', 'Flexible Fuel'], dtype=object)"
      ]
     },
     "execution_count": 668,
     "metadata": {},
     "output_type": "execute_result"
    }
   ],
   "source": [
    "\n",
    "df = df[df['FuelType'] != '–']\n",
    "\n",
    "df['FuelType'].unique()\n"
   ]
  },
  {
   "cell_type": "code",
   "execution_count": 669,
   "metadata": {},
   "outputs": [],
   "source": [
    "used_new_ec = LabelEncoder()\n",
    "SellerType_ec = LabelEncoder()\n",
    "df['Used/New'] = used_new_ec.fit_transform(df['Used/New'])\n",
    "df['SellerType'] = SellerType_ec.fit_transform(df['SellerType'])"
   ]
  },
  {
   "cell_type": "code",
   "execution_count": 670,
   "metadata": {},
   "outputs": [
    {
     "name": "stdout",
     "output_type": "stream",
     "text": [
      "[0 1]\n",
      "[1 0]\n",
      "['Certified Pre-Owned' 'Used']\n",
      "['Dealer' 'Private']\n"
     ]
    }
   ],
   "source": [
    "print(df['SellerType'].unique())\n",
    "print(df['Used/New'].unique())\n",
    "print(used_new_ec.inverse_transform([0,1]))\n",
    "print(SellerType_ec.inverse_transform([0,1]))"
   ]
  },
  {
   "cell_type": "code",
   "execution_count": 671,
   "metadata": {},
   "outputs": [],
   "source": [
    "df['FuelType'].unique()\n",
    "\n",
    "df['FuelType'] = ['Hybrid' if 'hybrid' in item.casefold()\n",
    "                 else 'Hybrid' if 'plug' in item.casefold()\n",
    "                 else 'Flex' if 'flex' in item.casefold()\n",
    "                 else 'Electric' if 'electric' in item.casefold()\n",
    "                 else 'Diesel' if 'diesel' in item.casefold()\n",
    "                 else 'Gas' for item in df['FuelType']]"
   ]
  },
  {
   "cell_type": "code",
   "execution_count": 672,
   "metadata": {},
   "outputs": [
    {
     "name": "stdout",
     "output_type": "stream",
     "text": [
      "221\n"
     ]
    },
    {
     "data": {
      "text/plain": [
       "array(['Automatic', 'Other', 'Manual'], dtype=object)"
      ]
     },
     "execution_count": 672,
     "metadata": {},
     "output_type": "execute_result"
    }
   ],
   "source": [
    "print(df['DealType'].isnull().sum())\n",
    "df = df[df['DealType'].isnull() == False]\n",
    "\n",
    "df['Transmission'].unique()\n",
    "df['Transmission'] = ['Automatic' if 'auto' in item.casefold() else \n",
    "                        'Manual' if 'manual' in item.casefold()\n",
    "                        else 'Other' for item in df['Transmission']]\n",
    "df['Transmission'].unique()"
   ]
  },
  {
   "cell_type": "code",
   "execution_count": 673,
   "metadata": {},
   "outputs": [],
   "source": [
    "make = pd.get_dummies(df['Make'])\n",
    "drivetrain = pd.get_dummies(df['Drivetrain'])\n",
    "fuelType = pd.get_dummies(df['FuelType'])"
   ]
  },
  {
   "cell_type": "code",
   "execution_count": 674,
   "metadata": {},
   "outputs": [],
   "source": [
    "column_to_drop = ['Make','Drivetrain', 'FuelType', 'Transmission','SellerName'\n",
    ",'StreetName','ExteriorColor','InteriorColor','Engine','VIN','Stock#','Model','State','MaxMPG','MinMPG','Zipcode']"
   ]
  },
  {
   "cell_type": "code",
   "execution_count": 675,
   "metadata": {},
   "outputs": [
    {
     "data": {
      "text/html": [
       "<div>\n",
       "<style scoped>\n",
       "    .dataframe tbody tr th:only-of-type {\n",
       "        vertical-align: middle;\n",
       "    }\n",
       "\n",
       "    .dataframe tbody tr th {\n",
       "        vertical-align: top;\n",
       "    }\n",
       "\n",
       "    .dataframe thead th {\n",
       "        text-align: right;\n",
       "    }\n",
       "</style>\n",
       "<table border=\"1\" class=\"dataframe\">\n",
       "  <thead>\n",
       "    <tr style=\"text-align: right;\">\n",
       "      <th></th>\n",
       "      <th>Year</th>\n",
       "      <th>Used/New</th>\n",
       "      <th>Price</th>\n",
       "      <th>ConsumerRating</th>\n",
       "      <th>ConsumerReviews</th>\n",
       "      <th>SellerType</th>\n",
       "      <th>SellerRating</th>\n",
       "      <th>SellerReviews</th>\n",
       "      <th>DealType</th>\n",
       "      <th>ComfortRating</th>\n",
       "      <th>...</th>\n",
       "      <th>Volvo</th>\n",
       "      <th>4WD</th>\n",
       "      <th>AWD</th>\n",
       "      <th>FWD</th>\n",
       "      <th>RWD</th>\n",
       "      <th>Diesel</th>\n",
       "      <th>Electric</th>\n",
       "      <th>Flex</th>\n",
       "      <th>Gas</th>\n",
       "      <th>Hybrid</th>\n",
       "    </tr>\n",
       "  </thead>\n",
       "  <tbody>\n",
       "    <tr>\n",
       "      <th>0</th>\n",
       "      <td>2019</td>\n",
       "      <td>1</td>\n",
       "      <td>39998</td>\n",
       "      <td>4.6</td>\n",
       "      <td>45</td>\n",
       "      <td>0</td>\n",
       "      <td>3.3</td>\n",
       "      <td>3</td>\n",
       "      <td>Great</td>\n",
       "      <td>4.7</td>\n",
       "      <td>...</td>\n",
       "      <td>0</td>\n",
       "      <td>0</td>\n",
       "      <td>0</td>\n",
       "      <td>1</td>\n",
       "      <td>0</td>\n",
       "      <td>0</td>\n",
       "      <td>0</td>\n",
       "      <td>0</td>\n",
       "      <td>1</td>\n",
       "      <td>0</td>\n",
       "    </tr>\n",
       "    <tr>\n",
       "      <th>1</th>\n",
       "      <td>2018</td>\n",
       "      <td>1</td>\n",
       "      <td>49985</td>\n",
       "      <td>4.8</td>\n",
       "      <td>817</td>\n",
       "      <td>0</td>\n",
       "      <td>4.8</td>\n",
       "      <td>131</td>\n",
       "      <td>Good</td>\n",
       "      <td>4.9</td>\n",
       "      <td>...</td>\n",
       "      <td>0</td>\n",
       "      <td>1</td>\n",
       "      <td>0</td>\n",
       "      <td>0</td>\n",
       "      <td>0</td>\n",
       "      <td>0</td>\n",
       "      <td>0</td>\n",
       "      <td>0</td>\n",
       "      <td>1</td>\n",
       "      <td>0</td>\n",
       "    </tr>\n",
       "    <tr>\n",
       "      <th>2</th>\n",
       "      <td>2017</td>\n",
       "      <td>1</td>\n",
       "      <td>41860</td>\n",
       "      <td>4.7</td>\n",
       "      <td>495</td>\n",
       "      <td>0</td>\n",
       "      <td>4.6</td>\n",
       "      <td>249</td>\n",
       "      <td>Good</td>\n",
       "      <td>4.8</td>\n",
       "      <td>...</td>\n",
       "      <td>0</td>\n",
       "      <td>1</td>\n",
       "      <td>0</td>\n",
       "      <td>0</td>\n",
       "      <td>0</td>\n",
       "      <td>0</td>\n",
       "      <td>0</td>\n",
       "      <td>0</td>\n",
       "      <td>1</td>\n",
       "      <td>0</td>\n",
       "    </tr>\n",
       "    <tr>\n",
       "      <th>4</th>\n",
       "      <td>2020</td>\n",
       "      <td>1</td>\n",
       "      <td>49000</td>\n",
       "      <td>4.8</td>\n",
       "      <td>76</td>\n",
       "      <td>0</td>\n",
       "      <td>4.8</td>\n",
       "      <td>4755</td>\n",
       "      <td>Good</td>\n",
       "      <td>4.9</td>\n",
       "      <td>...</td>\n",
       "      <td>0</td>\n",
       "      <td>0</td>\n",
       "      <td>0</td>\n",
       "      <td>1</td>\n",
       "      <td>0</td>\n",
       "      <td>0</td>\n",
       "      <td>0</td>\n",
       "      <td>0</td>\n",
       "      <td>1</td>\n",
       "      <td>0</td>\n",
       "    </tr>\n",
       "    <tr>\n",
       "      <th>5</th>\n",
       "      <td>2012</td>\n",
       "      <td>1</td>\n",
       "      <td>23541</td>\n",
       "      <td>4.7</td>\n",
       "      <td>34</td>\n",
       "      <td>0</td>\n",
       "      <td>4.4</td>\n",
       "      <td>1071</td>\n",
       "      <td>Fair</td>\n",
       "      <td>4.7</td>\n",
       "      <td>...</td>\n",
       "      <td>0</td>\n",
       "      <td>0</td>\n",
       "      <td>0</td>\n",
       "      <td>0</td>\n",
       "      <td>1</td>\n",
       "      <td>0</td>\n",
       "      <td>0</td>\n",
       "      <td>0</td>\n",
       "      <td>1</td>\n",
       "      <td>0</td>\n",
       "    </tr>\n",
       "    <tr>\n",
       "      <th>...</th>\n",
       "      <td>...</td>\n",
       "      <td>...</td>\n",
       "      <td>...</td>\n",
       "      <td>...</td>\n",
       "      <td>...</td>\n",
       "      <td>...</td>\n",
       "      <td>...</td>\n",
       "      <td>...</td>\n",
       "      <td>...</td>\n",
       "      <td>...</td>\n",
       "      <td>...</td>\n",
       "      <td>...</td>\n",
       "      <td>...</td>\n",
       "      <td>...</td>\n",
       "      <td>...</td>\n",
       "      <td>...</td>\n",
       "      <td>...</td>\n",
       "      <td>...</td>\n",
       "      <td>...</td>\n",
       "      <td>...</td>\n",
       "      <td>...</td>\n",
       "    </tr>\n",
       "    <tr>\n",
       "      <th>9374</th>\n",
       "      <td>2019</td>\n",
       "      <td>1</td>\n",
       "      <td>27374</td>\n",
       "      <td>4.7</td>\n",
       "      <td>205</td>\n",
       "      <td>0</td>\n",
       "      <td>4.4</td>\n",
       "      <td>443</td>\n",
       "      <td>Good</td>\n",
       "      <td>4.7</td>\n",
       "      <td>...</td>\n",
       "      <td>0</td>\n",
       "      <td>0</td>\n",
       "      <td>1</td>\n",
       "      <td>0</td>\n",
       "      <td>0</td>\n",
       "      <td>0</td>\n",
       "      <td>0</td>\n",
       "      <td>0</td>\n",
       "      <td>1</td>\n",
       "      <td>0</td>\n",
       "    </tr>\n",
       "    <tr>\n",
       "      <th>9375</th>\n",
       "      <td>2019</td>\n",
       "      <td>1</td>\n",
       "      <td>61998</td>\n",
       "      <td>4.8</td>\n",
       "      <td>27</td>\n",
       "      <td>0</td>\n",
       "      <td>4.8</td>\n",
       "      <td>1789</td>\n",
       "      <td>Fair</td>\n",
       "      <td>4.9</td>\n",
       "      <td>...</td>\n",
       "      <td>0</td>\n",
       "      <td>0</td>\n",
       "      <td>1</td>\n",
       "      <td>0</td>\n",
       "      <td>0</td>\n",
       "      <td>0</td>\n",
       "      <td>0</td>\n",
       "      <td>0</td>\n",
       "      <td>0</td>\n",
       "      <td>1</td>\n",
       "    </tr>\n",
       "    <tr>\n",
       "      <th>9376</th>\n",
       "      <td>2017</td>\n",
       "      <td>1</td>\n",
       "      <td>26944</td>\n",
       "      <td>4.8</td>\n",
       "      <td>137</td>\n",
       "      <td>0</td>\n",
       "      <td>4.7</td>\n",
       "      <td>831</td>\n",
       "      <td>Good</td>\n",
       "      <td>4.9</td>\n",
       "      <td>...</td>\n",
       "      <td>0</td>\n",
       "      <td>0</td>\n",
       "      <td>1</td>\n",
       "      <td>0</td>\n",
       "      <td>0</td>\n",
       "      <td>0</td>\n",
       "      <td>0</td>\n",
       "      <td>0</td>\n",
       "      <td>1</td>\n",
       "      <td>0</td>\n",
       "    </tr>\n",
       "    <tr>\n",
       "      <th>9377</th>\n",
       "      <td>2019</td>\n",
       "      <td>1</td>\n",
       "      <td>28568</td>\n",
       "      <td>4.7</td>\n",
       "      <td>279</td>\n",
       "      <td>0</td>\n",
       "      <td>4.4</td>\n",
       "      <td>680</td>\n",
       "      <td>Good</td>\n",
       "      <td>4.8</td>\n",
       "      <td>...</td>\n",
       "      <td>0</td>\n",
       "      <td>0</td>\n",
       "      <td>1</td>\n",
       "      <td>0</td>\n",
       "      <td>0</td>\n",
       "      <td>0</td>\n",
       "      <td>0</td>\n",
       "      <td>0</td>\n",
       "      <td>1</td>\n",
       "      <td>0</td>\n",
       "    </tr>\n",
       "    <tr>\n",
       "      <th>9378</th>\n",
       "      <td>2019</td>\n",
       "      <td>1</td>\n",
       "      <td>32091</td>\n",
       "      <td>4.8</td>\n",
       "      <td>204</td>\n",
       "      <td>0</td>\n",
       "      <td>4.4</td>\n",
       "      <td>1105</td>\n",
       "      <td>Good</td>\n",
       "      <td>4.9</td>\n",
       "      <td>...</td>\n",
       "      <td>0</td>\n",
       "      <td>0</td>\n",
       "      <td>1</td>\n",
       "      <td>0</td>\n",
       "      <td>0</td>\n",
       "      <td>0</td>\n",
       "      <td>0</td>\n",
       "      <td>0</td>\n",
       "      <td>1</td>\n",
       "      <td>0</td>\n",
       "    </tr>\n",
       "  </tbody>\n",
       "</table>\n",
       "<p>9116 rows × 65 columns</p>\n",
       "</div>"
      ],
      "text/plain": [
       "      Year  Used/New  Price  ConsumerRating  ConsumerReviews  SellerType  \\\n",
       "0     2019         1  39998             4.6               45           0   \n",
       "1     2018         1  49985             4.8              817           0   \n",
       "2     2017         1  41860             4.7              495           0   \n",
       "4     2020         1  49000             4.8               76           0   \n",
       "5     2012         1  23541             4.7               34           0   \n",
       "...    ...       ...    ...             ...              ...         ...   \n",
       "9374  2019         1  27374             4.7              205           0   \n",
       "9375  2019         1  61998             4.8               27           0   \n",
       "9376  2017         1  26944             4.8              137           0   \n",
       "9377  2019         1  28568             4.7              279           0   \n",
       "9378  2019         1  32091             4.8              204           0   \n",
       "\n",
       "      SellerRating  SellerReviews DealType  ComfortRating  ...  Volvo  4WD  \\\n",
       "0              3.3              3    Great            4.7  ...      0    0   \n",
       "1              4.8            131     Good            4.9  ...      0    1   \n",
       "2              4.6            249     Good            4.8  ...      0    1   \n",
       "4              4.8           4755     Good            4.9  ...      0    0   \n",
       "5              4.4           1071     Fair            4.7  ...      0    0   \n",
       "...            ...            ...      ...            ...  ...    ...  ...   \n",
       "9374           4.4            443     Good            4.7  ...      0    0   \n",
       "9375           4.8           1789     Fair            4.9  ...      0    0   \n",
       "9376           4.7            831     Good            4.9  ...      0    0   \n",
       "9377           4.4            680     Good            4.8  ...      0    0   \n",
       "9378           4.4           1105     Good            4.9  ...      0    0   \n",
       "\n",
       "      AWD  FWD  RWD  Diesel  Electric  Flex  Gas  Hybrid  \n",
       "0       0    1    0       0         0     0    1       0  \n",
       "1       0    0    0       0         0     0    1       0  \n",
       "2       0    0    0       0         0     0    1       0  \n",
       "4       0    1    0       0         0     0    1       0  \n",
       "5       0    0    1       0         0     0    1       0  \n",
       "...   ...  ...  ...     ...       ...   ...  ...     ...  \n",
       "9374    1    0    0       0         0     0    1       0  \n",
       "9375    1    0    0       0         0     0    0       1  \n",
       "9376    1    0    0       0         0     0    1       0  \n",
       "9377    1    0    0       0         0     0    1       0  \n",
       "9378    1    0    0       0         0     0    1       0  \n",
       "\n",
       "[9116 rows x 65 columns]"
      ]
     },
     "execution_count": 675,
     "metadata": {},
     "output_type": "execute_result"
    }
   ],
   "source": [
    "df.drop(column_to_drop, axis=1, inplace=True)\n",
    "pd.concat([df,make,drivetrain,fuelType], axis=1)"
   ]
  },
  {
   "cell_type": "code",
   "execution_count": 676,
   "metadata": {},
   "outputs": [
    {
     "name": "stdout",
     "output_type": "stream",
     "text": [
      "<class 'pandas.core.frame.DataFrame'>\n",
      "Int64Index: 9116 entries, 0 to 9378\n",
      "Data columns (total 16 columns):\n",
      " #   Column                 Non-Null Count  Dtype  \n",
      "---  ------                 --------------  -----  \n",
      " 0   Year                   9116 non-null   int64  \n",
      " 1   Used/New               9116 non-null   int32  \n",
      " 2   Price                  9116 non-null   int64  \n",
      " 3   ConsumerRating         9116 non-null   float64\n",
      " 4   ConsumerReviews        9116 non-null   int64  \n",
      " 5   SellerType             9116 non-null   int32  \n",
      " 6   SellerRating           9116 non-null   float64\n",
      " 7   SellerReviews          9116 non-null   int64  \n",
      " 8   DealType               9116 non-null   object \n",
      " 9   ComfortRating          9116 non-null   float64\n",
      " 10  InteriorDesignRating   9116 non-null   float64\n",
      " 11  PerformanceRating      9116 non-null   float64\n",
      " 12  ValueForMoneyRating    9116 non-null   float64\n",
      " 13  ExteriorStylingRating  9116 non-null   float64\n",
      " 14  ReliabilityRating      9116 non-null   float64\n",
      " 15  Mileage                9116 non-null   int64  \n",
      "dtypes: float64(8), int32(2), int64(5), object(1)\n",
      "memory usage: 1.1+ MB\n"
     ]
    }
   ],
   "source": [
    "df.info()"
   ]
  },
  {
   "cell_type": "code",
   "execution_count": 677,
   "metadata": {},
   "outputs": [],
   "source": [
    "from sklearn.model_selection import train_test_split\n",
    "from sklearn.preprocessing import MinMaxScaler, StandardScaler\n",
    "from sklearn.metrics import classification_report, accuracy_score,confusion_matrix\n"
   ]
  },
  {
   "cell_type": "code",
   "execution_count": 678,
   "metadata": {},
   "outputs": [
    {
     "name": "stdout",
     "output_type": "stream",
     "text": [
      "   Year  Used/New  Price  ConsumerRating  ConsumerReviews  SellerType  \\\n",
      "0  2019         1  39998             4.6               45           0   \n",
      "1  2018         1  49985             4.8              817           0   \n",
      "2  2017         1  41860             4.7              495           0   \n",
      "4  2020         1  49000             4.8               76           0   \n",
      "5  2012         1  23541             4.7               34           0   \n",
      "\n",
      "   SellerRating  SellerReviews DealType  ComfortRating  InteriorDesignRating  \\\n",
      "0           3.3              3    Great            4.7                   4.6   \n",
      "1           4.8            131     Good            4.9                   4.8   \n",
      "2           4.6            249     Good            4.8                   4.7   \n",
      "4           4.8           4755     Good            4.9                   4.8   \n",
      "5           4.4           1071     Fair            4.7                   4.6   \n",
      "\n",
      "   PerformanceRating  ValueForMoneyRating  ExteriorStylingRating  \\\n",
      "0                4.6                  4.4                    4.6   \n",
      "1                4.8                  4.6                    4.8   \n",
      "2                4.8                  4.6                    4.8   \n",
      "4                4.8                  4.7                    4.8   \n",
      "5                4.4                  4.6                    4.9   \n",
      "\n",
      "   ReliabilityRating  Mileage  \n",
      "0                4.7    29403  \n",
      "1                4.7    32929  \n",
      "2                4.7    23173  \n",
      "4                4.9    28137  \n",
      "5                4.9   105469  \n",
      "[39998 49985 41860 ... 26944 28568 32091]\n"
     ]
    }
   ],
   "source": [
    "print(df.head())\n",
    "X = np.array(df.drop('DealType', axis=1))\n",
    "y = np.array(df['Price'])\n",
    "print(y)\n"
   ]
  },
  {
   "cell_type": "code",
   "execution_count": 683,
   "metadata": {},
   "outputs": [
    {
     "name": "stdout",
     "output_type": "stream",
     "text": [
      "[[2.0190e+03 1.0000e+00 4.2500e+04 4.7000e+00 6.9000e+01 0.0000e+00\n",
      "  4.6000e+00 5.8000e+02 4.9000e+00 4.7000e+00 4.8000e+00 4.6000e+00\n",
      "  4.8000e+00 4.6000e+00 1.9060e+04]\n",
      " [2.0160e+03 1.0000e+00 2.4995e+04 4.8000e+00 7.3000e+01 0.0000e+00\n",
      "  4.5000e+00 1.1000e+02 4.8000e+00 4.8000e+00 4.8000e+00 4.5000e+00\n",
      "  4.8000e+00 4.7000e+00 8.5748e+04]\n",
      " [2.0190e+03 1.0000e+00 2.3988e+04 4.7000e+00 2.7900e+02 0.0000e+00\n",
      "  4.7000e+00 1.9970e+03 4.8000e+00 4.7000e+00 4.6000e+00 4.7000e+00\n",
      "  4.7000e+00 4.8000e+00 5.7527e+04]\n",
      " [2.0210e+03 1.0000e+00 4.7998e+04 4.6000e+00 1.6000e+01 0.0000e+00\n",
      "  4.0000e+00 4.0000e+00 4.6000e+00 4.4000e+00 4.7000e+00 4.2000e+00\n",
      "  4.5000e+00 4.7000e+00 1.3923e+04]\n",
      " [2.0210e+03 1.0000e+00 3.2940e+04 4.8000e+00 2.0000e+01 0.0000e+00\n",
      "  4.9000e+00 8.2100e+02 4.8000e+00 4.8000e+00 4.6000e+00 4.6000e+00\n",
      "  4.9000e+00 4.8000e+00 3.9164e+04]]\n"
     ]
    },
    {
     "data": {
      "text/plain": [
       "1.0"
      ]
     },
     "execution_count": 683,
     "metadata": {},
     "output_type": "execute_result"
    }
   ],
   "source": [
    "from sklearn.linear_model import LinearRegression\n",
    "\n",
    "X_train, X_test, y_train, y_test = train_test_split(X,y)\n",
    "print(X_train[:5])\n",
    "\n",
    "\n",
    "model = LinearRegression()\n",
    "\n",
    "\n",
    "model.fit(X_train, y_train)\n",
    "\n",
    "model.score(X_train, y_train)\n",
    "\n"
   ]
  },
  {
   "cell_type": "code",
   "execution_count": 684,
   "metadata": {},
   "outputs": [],
   "source": [
    "y_pred = model.predict(X_test)"
   ]
  },
  {
   "cell_type": "code",
   "execution_count": 686,
   "metadata": {},
   "outputs": [
    {
     "data": {
      "text/plain": [
       "1.0"
      ]
     },
     "execution_count": 686,
     "metadata": {},
     "output_type": "execute_result"
    }
   ],
   "source": [
    "from sklearn.metrics import accuracy_score, confusion_matrix, r2_score\n",
    "from sklearn.metrics import mean_absolute_error\n",
    "\n",
    "r2_score(y_test, y_pred)\n"
   ]
  }
 ],
 "metadata": {
  "kernelspec": {
   "display_name": "Python 3.9.12 ('sklearn1.1')",
   "language": "python",
   "name": "python3"
  },
  "language_info": {
   "codemirror_mode": {
    "name": "ipython",
    "version": 3
   },
   "file_extension": ".py",
   "mimetype": "text/x-python",
   "name": "python",
   "nbconvert_exporter": "python",
   "pygments_lexer": "ipython3",
   "version": "3.9.12"
  },
  "orig_nbformat": 4,
  "vscode": {
   "interpreter": {
    "hash": "9720f2c0a5fb07196a9441b0d7f13d8f98b4e4557b919c0543106eefd2c02f5c"
   }
  }
 },
 "nbformat": 4,
 "nbformat_minor": 2
}
