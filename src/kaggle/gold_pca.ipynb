{
 "cells": [
  {
   "cell_type": "code",
   "execution_count": 1,
   "metadata": {},
   "outputs": [],
   "source": [
    "import math\n",
    "import numpy as np\n",
    "import pandas as pd\n",
    "import seaborn as sns\n",
    "import matplotlib.pyplot as plt\n",
    "%matplotlib inline\n",
    "from sklearn.linear_model import LinearRegression\n",
    "from sklearn.metrics import mean_absolute_error\n",
    "from sklearn.metrics import accuracy_score\n",
    "from sklearn.metrics import mean_squared_error\n",
    "from sklearn.metrics import r2_score\n",
    "from sklearn.model_selection import train_test_split\n",
    "from sklearn.pipeline import Pipeline\n",
    "from sklearn.compose import ColumnTransformer\n",
    "from sklearn.model_selection import cross_val_score\n",
    "from xgboost import XGBRegressor\n",
    "from sklearn.pipeline import make_pipeline\n",
    "from sklearn.ensemble import RandomForestClassifier\n",
    "from sklearn.feature_selection import mutual_info_regression\n",
    "from sklearn.decomposition import PCA"
   ]
  },
  {
   "cell_type": "code",
   "execution_count": 9,
   "metadata": {},
   "outputs": [],
   "source": [
    "gold_file_path = './input/FINAL_USO.csv'\n",
    "\n",
    "df = pd.read_csv(gold_file_path)\n",
    "\n",
    "y = df['Adj Close']\n",
    "\n",
    "gold_features = ['Open', 'High', 'Low', 'Volume']\n",
    "X = df[gold_features]\n",
    "# df.isnull().any()"
   ]
  },
  {
   "cell_type": "code",
   "execution_count": 10,
   "metadata": {},
   "outputs": [
    {
     "name": "stdout",
     "output_type": "stream",
     "text": [
      "Making predicitons for the first 5 entries\n",
      "\n",
      "         Open        High         Low    Volume\n",
      "0  154.740005  154.949997  151.710007  21521900\n",
      "1  154.309998  155.369995  153.899994  18124300\n",
      "2  155.479996  155.860001  154.360001  12547200\n",
      "3  156.820007  157.429993  156.580002   9136300\n",
      "4  156.979996  157.529999  156.130005  11996100\n",
      "\n",
      "The predictions are:\n",
      "\n",
      "[152.55743325 154.81709905 154.92457233 157.14066214 156.77663033]\n",
      "\n",
      "The actual values are:\n",
      "\n",
      "0    152.330002\n",
      "1    155.229996\n",
      "2    154.869995\n",
      "3    156.979996\n",
      "4    157.160004\n",
      "Name: Adj Close, dtype: float64\n"
     ]
    }
   ],
   "source": [
    "gold_model = LinearRegression()\n",
    "gold_model.fit(X,y)\n",
    "\n",
    "print(\"Making predicitons for the first 5 entries\\n\")\n",
    "print(X.head())\n",
    "print(\"\\nThe predictions are:\\n\")\n",
    "print(gold_model.predict(X.head()))\n",
    "print(\"\\nThe actual values are:\\n\")\n",
    "print(y.head())"
   ]
  },
  {
   "cell_type": "code",
   "execution_count": 11,
   "metadata": {},
   "outputs": [
    {
     "name": "stdout",
     "output_type": "stream",
     "text": [
      "0.24778906753804222\n",
      "0.21905793913674523\n"
     ]
    }
   ],
   "source": [
    "predicted_adj_close = gold_model.predict(X.head())\n",
    "print(mean_absolute_error(y.head(),predicted_adj_close))\n",
    "\n",
    "predicted_adj_close = gold_model.predict(X)\n",
    "print(mean_absolute_error(y, predicted_adj_close))"
   ]
  },
  {
   "cell_type": "code",
   "execution_count": 12,
   "metadata": {},
   "outputs": [
    {
     "name": "stdout",
     "output_type": "stream",
     "text": [
      "0.22434694335749464\n"
     ]
    }
   ],
   "source": [
    "train_X, val_X, train_y, val_y = train_test_split(X, y, random_state = 0)\n",
    "# Define a new model for training set\n",
    "gold_model = LinearRegression()\n",
    "# Fit model\n",
    "gold_model.fit(train_X, train_y)\n",
    "\n",
    "#get predicted prices on validation data\n",
    "val_predictions = gold_model.predict(val_X)\n",
    "print(mean_absolute_error(val_y,val_predictions))"
   ]
  },
  {
   "cell_type": "code",
   "execution_count": 13,
   "metadata": {},
   "outputs": [
    {
     "name": "stdout",
     "output_type": "stream",
     "text": [
      "MAE: 0.22434694335749464\n"
     ]
    },
    {
     "data": {
      "text/plain": [
       "<AxesSubplot:xlabel='Adj Close'>"
      ]
     },
     "execution_count": 13,
     "metadata": {},
     "output_type": "execute_result"
    },
    {
     "data": {
      "image/png": "[encoded data removed]",
      "text/plain": [
       "<Figure size 432x288 with 1 Axes>"
      ]
     },
     "metadata": {
      "needs_background": "light"
     },
     "output_type": "display_data"
    }
   ],
   "source": [
    "gold_model = LinearRegression()\n",
    "\n",
    "# Bundle preporcessing and modeling code in a pipeline\n",
    "my_pipeline = Pipeline(steps=[('gold_model', gold_model)])\n",
    "# Preprocessing of training data, fit model\n",
    "my_pipeline.fit(train_X, train_y)\n",
    "\n",
    "# Preprocessing of validation data, get predictions\n",
    "preds = my_pipeline.predict(val_X)\n",
    "\n",
    "# Evaluate the model\n",
    "mae_score = mean_absolute_error(val_y, preds)\n",
    "print('MAE:', mae_score)\n",
    "\n",
    "# Display Model\n",
    "sns.regplot(x=val_y, y=preds, line_kws={\"color\":\"black\"})"
   ]
  },
  {
   "cell_type": "code",
   "execution_count": 15,
   "metadata": {},
   "outputs": [
    {
     "name": "stdout",
     "output_type": "stream",
     "text": [
      "MAE scores:\n",
      " [0.33869539 0.28749731 0.27608857 0.18376062 0.19862309 0.20854433\n",
      " 0.23916281 0.16176519 0.17072235 0.14091063] \n",
      "\n",
      "Average MAE score (across all ten folds):\n",
      "0.22057702721449735\n",
      "\n",
      "RMSE is 0.32573358894115895\n",
      "\n",
      "r2 score is 0.9996725196711936\n"
     ]
    }
   ],
   "source": [
    "scores = -1 * cross_val_score(my_pipeline, X, y,\n",
    "                              cv=10,\n",
    "                              scoring = 'neg_mean_absolute_error')\n",
    "print(\"MAE scores:\\n\",scores,\"\\n\")\n",
    "print(\"Average MAE score (across all ten folds):\")\n",
    "print(scores.mean())\n",
    "\n",
    "rmse = math.sqrt(mean_squared_error(val_y,preds))\n",
    "print(\"\\nRMSE is\",rmse)\n",
    "\n",
    "r2 = r2_score(val_y, preds)\n",
    "print(\"\\nr2 score is\", r2)"
   ]
  },
  {
   "cell_type": "code",
   "execution_count": 16,
   "metadata": {},
   "outputs": [
    {
     "name": "stdout",
     "output_type": "stream",
     "text": [
      "Mean Absolute Error:  0.3436271869697034\n"
     ]
    }
   ],
   "source": [
    "my_model = XGBRegressor()\n",
    "my_model.fit(train_X, train_y)\n",
    "\n",
    "# Make predictions using XGBoost model\n",
    "predictions = my_model.predict(val_X)\n",
    "print(\"Mean Absolute Error: \",mean_absolute_error(predictions, val_y))\n"
   ]
  },
  {
   "cell_type": "code",
   "execution_count": 17,
   "metadata": {},
   "outputs": [
    {
     "name": "stderr",
     "output_type": "stream",
     "text": [
      "c:\\Users\\User\\anaconda3\\envs\\sklearn1.1\\lib\\site-packages\\xgboost\\sklearn.py:793: UserWarning: `early_stopping_rounds` in `fit` method is deprecated for better compatibility with scikit-learn, use `early_stopping_rounds` in constructor or`set_params` instead.\n",
      "  warnings.warn(\n"
     ]
    },
    {
     "name": "stdout",
     "output_type": "stream",
     "text": [
      "Mean Absolute Error 0.32507077580850213\n",
      "\n",
      "RMSE is 0.4898371422123191\n",
      "\n",
      "r2 score is 0.9992594343665429\n"
     ]
    },
    {
     "data": {
      "text/plain": [
       "<AxesSubplot:xlabel='Adj Close'>"
      ]
     },
     "execution_count": 17,
     "metadata": {},
     "output_type": "execute_result"
    },
    {
     "data": {
      "image/png": "[encoded data removed]",
      "text/plain": [
       "<Figure size 432x288 with 1 Axes>"
      ]
     },
     "metadata": {
      "needs_background": "light"
     },
     "output_type": "display_data"
    }
   ],
   "source": [
    "my_model = XGBRegressor(n_estimators=1000,\n",
    "                        learning_rate=0.03,\n",
    "                        n_jobs=4)\n",
    "my_model.fit(train_X, train_y,\n",
    "            early_stopping_rounds=5,\n",
    "            eval_set=[(val_X, val_y)],\n",
    "            verbose=False)\n",
    "\n",
    "predictions = my_model.predict(val_X)\n",
    "print(\"Mean Absolute Error\",\n",
    "      mean_absolute_error(predictions,val_y))\n",
    "\n",
    "rmse = math.sqrt(mean_squared_error(val_y,predictions))\n",
    "print(\"\\nRMSE is\", rmse)\n",
    "\n",
    "r2 = r2_score(val_y,predictions)\n",
    "print(\"\\nr2 score is\", r2)\n",
    "\n",
    "sns.regplot(x=val_y, y=predictions, line_kws={\"color\": \"black\"})"
   ]
  }
 ],
 "metadata": {
  "kernelspec": {
   "display_name": "Python 3.9.12 ('sklearn1.1')",
   "language": "python",
   "name": "python3"
  },
  "language_info": {
   "codemirror_mode": {
    "name": "ipython",
    "version": 3
   },
   "file_extension": ".py",
   "mimetype": "text/x-python",
   "name": "python",
   "nbconvert_exporter": "python",
   "pygments_lexer": "ipython3",
   "version": "3.9.12"
  },
  "orig_nbformat": 4,
  "vscode": {
   "interpreter": {
    "hash": "9720f2c0a5fb07196a9441b0d7f13d8f98b4e4557b919c0543106eefd2c02f5c"
   }
  }
 },
 "nbformat": 4,
 "nbformat_minor": 2
}
