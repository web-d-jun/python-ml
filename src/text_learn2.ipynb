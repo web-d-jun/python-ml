{
 "cells": [
  {
   "cell_type": "code",
   "execution_count": 3,
   "metadata": {},
   "outputs": [
    {
     "name": "stdout",
     "output_type": "stream",
     "text": [
      "1.1.1\n"
     ]
    }
   ],
   "source": [
    "import tensorflow as tf\n",
    "import keras\n",
    "import gensim\n",
    "import sklearn\n",
    "\n",
    "\n",
    "print(sklearn.__version__)"
   ]
  }
 ],
 "metadata": {
  "interpreter": {
   "hash": "8f816084c22b7e3bc098c519b774320f74715b0c7de4b259c0c8a7e443152812"
  },
  "kernelspec": {
   "display_name": "Python 3.9.12 ('new-nlp')",
   "language": "python",
   "name": "python3"
  },
  "language_info": {
   "codemirror_mode": {
    "name": "ipython",
    "version": 3
   },
   "file_extension": ".py",
   "mimetype": "text/x-python",
   "name": "python",
   "nbconvert_exporter": "python",
   "pygments_lexer": "ipython3",
   "version": "3.9.12"
  },
  "orig_nbformat": 4
 },
 "nbformat": 4,
 "nbformat_minor": 2
}
