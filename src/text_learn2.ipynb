{
 "cells": [
  {
   "cell_type": "code",
   "execution_count": 100,
   "metadata": {},
   "outputs": [
    {
     "name": "stdout",
     "output_type": "stream",
     "text": [
      "{'나': 0, '는': 1, '자연어': 2, '처리': 3, '를': 4, '배운다': 5}\n"
     ]
    }
   ],
   "source": [
    "from konlpy.tag import Okt\n",
    "from tensorflow.keras.preprocessing.text import Tokenizer\n",
    "\n",
    "okt = Okt()\n",
    "\n",
    "\n",
    "tokens = okt.morphs('나는 자연어 처리를 배운다')\n",
    "\n",
    "word_to_index = {word : index for index, word in enumerate(tokens) }\n",
    "print(word_to_index)\n",
    "\n",
    "\n",
    "def one_hot_encoding(word, word_to_index):\n",
    "    one_hot_vector = [0]*(len(word_to_index))\n",
    "    print(one_hot_vector)\n",
    "    "
   ]
  }
 ],
 "metadata": {
  "interpreter": {
   "hash": "8f816084c22b7e3bc098c519b774320f74715b0c7de4b259c0c8a7e443152812"
  },
  "kernelspec": {
   "display_name": "Python 3.9.12 ('new-nlp')",
   "language": "python",
   "name": "python3"
  },
  "language_info": {
   "codemirror_mode": {
    "name": "ipython",
    "version": 3
   },
   "file_extension": ".py",
   "mimetype": "text/x-python",
   "name": "python",
   "nbconvert_exporter": "python",
   "pygments_lexer": "ipython3",
   "version": "3.9.12"
  },
  "orig_nbformat": 4
 },
 "nbformat": 4,
 "nbformat_minor": 2
}
