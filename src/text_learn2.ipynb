{
 "cells": [
  {
   "cell_type": "code",
   "execution_count": 135,
   "metadata": {},
   "outputs": [
    {
     "name": "stdout",
     "output_type": "stream",
     "text": [
      "['당신에게 드리는 마지막 혜택!', '내일 뵐 수 있을지 확인 부탁드...', '도연씨. 잘 지내시죠? 오랜만입...', '(광고) AI로 주가를 예측할 수 있다!']\n",
      "[1, 0, 0, 1]\n",
      "[[ 0  1  2  3]\n",
      " [ 4  5  6  7]\n",
      " [ 8  9 10 11]\n",
      " [12 13 14 15]]\n"
     ]
    }
   ],
   "source": [
    "from konlpy.tag import Okt\n",
    "\n",
    "okt = Okt()\n",
    "\n",
    "\n",
    "tokens = okt.morphs('나는 자연어 처리를 배운다')\n",
    "\n",
    "word_to_index = {word : index for index, word in enumerate(tokens) }\n",
    "\n",
    "\n",
    "\n",
    "def one_hot_encoding(word, word_to_index):\n",
    "    \n",
    "    one_hot_vector = [0]*(len(word_to_index))\n",
    "    index = word_to_index[word]\n",
    "    one_hot_vector[index] = 1\n",
    "    return one_hot_vector\n",
    "\n",
    "\n",
    "one_hot_encoding('자연어', word_to_index)\n",
    "\n",
    "\n",
    "text = \"나랑 점심 먹으러 갈래 점심 메뉴는 햄버거 갈래 갈래 햄버거 최고야\"\n",
    "from tensorflow.keras.preprocessing.text import Tokenizer\n",
    "from tensorflow.keras.utils import to_categorical\n",
    "\n",
    "tokenizer = Tokenizer()\n",
    "tokenizer.fit_on_texts([text])\n",
    "# print(tokenizer.word_index)\n",
    "\n",
    "sub_text = \"점심 먹으러 갈래 메뉴는 햄버거 최고야\"\n",
    "\n",
    "encoded = tokenizer.texts_to_sequences([sub_text])\n",
    "# print(encoded)\n",
    "\n",
    "one_hot = to_categorical(encoded)\n",
    "# print(one_hot)\n",
    "\n",
    "import pandas as  pd\n",
    "import numpy as np\n",
    "from sklearn.model_selection import train_test_split\n",
    "\n",
    "\n",
    "values = [['당신에게 드리는 마지막 혜택!', 1],\n",
    "['내일 뵐 수 있을지 확인 부탁드...', 0],\n",
    "['도연씨. 잘 지내시죠? 오랜만입...', 0],\n",
    "['(광고) AI로 주가를 예측할 수 있다!', 1]]\n",
    "columns = ['메일 본문', '스팸 메일 유무']\n",
    "\n",
    "df = pd.DataFrame(values, columns=columns)\n",
    "df\n",
    "\n",
    "X = df['메일 본문']\n",
    "y = df['스팸 메일 유무']\n",
    "\n",
    "print(X.to_list())\n",
    "print(y.to_list())\n",
    "\n",
    "\n",
    "np_array = np.arange(0,16).reshape((4,4))\n",
    "print(np_array)\n",
    "\n",
    "# 마지막 열을 제외하고 X데이터에 저장합니다. 마지막 열만을 y데이터에 저장합니다."
   ]
  }
 ],
 "metadata": {
  "interpreter": {
   "hash": "8f816084c22b7e3bc098c519b774320f74715b0c7de4b259c0c8a7e443152812"
  },
  "kernelspec": {
   "display_name": "Python 3.9.12 ('new-nlp')",
   "language": "python",
   "name": "python3"
  },
  "language_info": {
   "codemirror_mode": {
    "name": "ipython",
    "version": 3
   },
   "file_extension": ".py",
   "mimetype": "text/x-python",
   "name": "python",
   "nbconvert_exporter": "python",
   "pygments_lexer": "ipython3",
   "version": "3.9.12"
  },
  "orig_nbformat": 4
 },
 "nbformat": 4,
 "nbformat_minor": 2
}
