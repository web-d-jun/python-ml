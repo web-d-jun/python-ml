{
 "cells": [
  {
   "cell_type": "code",
   "execution_count": 9,
   "metadata": {},
   "outputs": [
    {
     "name": "stdout",
     "output_type": "stream",
     "text": [
      "[<tf.Tensor: shape=(), dtype=float32, numpy=8.0>]\n",
      "[15. 21. 23. 25.]\n"
     ]
    }
   ],
   "source": [
    "import tensorflow as tf\n",
    "\n",
    "w = tf.Variable(2.)\n",
    "def f(w):\n",
    "  y = w**2\n",
    "  z = 2*y + 5\n",
    "  return z\n",
    "\n",
    "\n",
    "with tf.GradientTape() as tape:\n",
    "  z = f(w)\n",
    "\n",
    "gradients = tape.gradient(z, [w])\n",
    "print(gradients)\n",
    "# 2w**2+b\n",
    "\n",
    "\n",
    "\n",
    "\n",
    "#가설 함수\n",
    "w = tf.Variable(4.0)\n",
    "b = tf.Variable(1.0)\n",
    "\n",
    "@tf.function\n",
    "def hypothesis(x):\n",
    "  return w*x+b\n",
    "\n",
    "x_test = [3.5, 5, 5.5, 6]\n",
    "\n",
    "print(hypothesis(x_test).numpy())\n",
    "\n",
    "#손실 함수\n",
    "@tf.function\n",
    "def mse_loss(y_pred, y):\n",
    "  return tf.reduce_mean(tf.square(y_pred - y))\n",
    "\n",
    "mse_loss()\n"
   ]
  }
 ],
 "metadata": {
  "kernelspec": {
   "display_name": "Python 3.9.10 ('base')",
   "language": "python",
   "name": "python3"
  },
  "language_info": {
   "codemirror_mode": {
    "name": "ipython",
    "version": 3
   },
   "file_extension": ".py",
   "mimetype": "text/x-python",
   "name": "python",
   "nbconvert_exporter": "python",
   "pygments_lexer": "ipython3",
   "version": "3.9.10"
  },
  "orig_nbformat": 4,
  "vscode": {
   "interpreter": {
    "hash": "b20a575b3bea1b2146886c516952439d9e7d15a399f16c2c9174de2a329083a4"
   }
  }
 },
 "nbformat": 4,
 "nbformat_minor": 2
}
