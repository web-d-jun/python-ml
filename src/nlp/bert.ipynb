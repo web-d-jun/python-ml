{
 "cells": [
  {
   "cell_type": "code",
   "execution_count": null,
   "metadata": {},
   "outputs": [],
   "source": []
  }
 ],
 "metadata": {
  "kernelspec": {
   "display_name": "Python 3.9.12 ('sklearn1.1')",
   "language": "python",
   "name": "python3"
  },
  "language_info": {
   "name": "python",
   "version": "3.9.12"
  },
  "orig_nbformat": 4,
  "vscode": {
   "interpreter": {
    "hash": "9720f2c0a5fb07196a9441b0d7f13d8f98b4e4557b919c0543106eefd2c02f5c"
   }
  }
 },
 "nbformat": 4,
 "nbformat_minor": 2
}
