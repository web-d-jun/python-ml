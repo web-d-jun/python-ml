{
 "cells": [
  {
   "cell_type": "markdown",
   "metadata": {},
   "source": [
    "### AccuRator 서술형 검색\n",
    "\n",
    "#### Step.1 AccuRator 서비스 화면의 입력Text(해결하고자 하는 문제나 과제내용)를 question 변수에 대입"
   ]
  },
  {
   "cell_type": "code",
   "execution_count": 14,
   "metadata": {},
   "outputs": [],
   "source": [
    "# 화면을 통한 사용자 질의내용 Sample1\n",
    "question = \"당사는 식료품 제조업을영위하고 있습니다. 팬데믹으로 인해 소비의 형태가 많이 바뀌었고, 매출에 영향을 주고 있습니다.이에 코로나로 인한 소비형태 변화를 반영해 수요예측을 하고 싶습니다.\"\n"
   ]
  },
  {
   "cell_type": "code",
   "execution_count": 15,
   "metadata": {},
   "outputs": [],
   "source": [
    "# 화면을 통한 사용자 질의내용 Sample 2\n",
    "question = \"프렌차이즈 본사입니다.주요 교통량, 유동인구, 지역별 자산수준을 고려하여, 지점의 입지후보 모델을 개발하고 싶습니다.모형개발하는데 검토할 수 있는 데이터들을 찾아주세요.\"\n"
   ]
  },
  {
   "cell_type": "markdown",
   "metadata": {},
   "source": [
    "#### Step2.질의내용(question)에 대한 NLP Process"
   ]
  },
  {
   "cell_type": "code",
   "execution_count": 16,
   "metadata": {},
   "outputs": [],
   "source": [
    "from konlpy.tag import Okt, Mecab\n",
    "import re\n",
    "\n",
    "def get_tokenizer(tokenizer_name):\n",
    "    if tokenizer_name == \"okt\":\n",
    "        tokenizer = Okt()\n",
    "    elif tokenizer_name == \"mecab\":\n",
    "        tokenizer = Mecab(dicpath=\"C:/mecab/mecab-ko-dic\")\n",
    "    else:\n",
    "        tokenizer = Mecab(dicpath=\"C:/mecab/mecab-ko-dic\")\n",
    "    return tokenizer"
   ]
  },
  {
   "cell_type": "code",
   "execution_count": 17,
   "metadata": {},
   "outputs": [
    {
     "name": "stdout",
     "output_type": "stream",
     "text": [
      "프렌차이즈 본사입니다 주요 교통량 유동인구 지역별 자산수준을 고려하여 지점의 입지후보 모델을 개발하고 싶습니다 모형개발하는데 검토할 수 있는 데이터들을 찾아주세요 \n"
     ]
    }
   ],
   "source": [
    "question = question.rstrip('\\n')\n",
    "question = question.strip()\n",
    "question = question.replace(\",\",\"\")\n",
    "question = question.replace(\".\",\" \")\n",
    "question = re.sub('[^가-힣a-z]', ' ', question)   \n",
    "print(question)"
   ]
  },
  {
   "cell_type": "code",
   "execution_count": 18,
   "metadata": {},
   "outputs": [
    {
     "name": "stdout",
     "output_type": "stream",
     "text": [
      "['프렌차이즈', '본사', '주요', '교통량', '유동', '인구', '지역', '자산', '수준', '고려', '지점', '입지', '후보', '모델', '개발', '모형', '개발', '데', '검토', '수', '데이터']\n",
      "21\n"
     ]
    }
   ],
   "source": [
    "tokenizer = get_tokenizer(\"mecab\")\n",
    "tokenizer.pos(question)\n",
    "tokenizer.nouns(question)\n",
    "\n",
    "tokens=[]\n",
    "tokens = tokenizer.nouns(question)\n",
    "print(tokens)\n",
    "print(len(tokens))"
   ]
  },
  {
   "cell_type": "code",
   "execution_count": 23,
   "metadata": {},
   "outputs": [],
   "source": [
    "for s in tokens[:]:\n",
    "    if len(s) < 2:\n",
    "        tokens.remove(s)"
   ]
  },
  {
   "cell_type": "code",
   "execution_count": 24,
   "metadata": {},
   "outputs": [
    {
     "name": "stdout",
     "output_type": "stream",
     "text": [
      "['프렌차이즈', '교통량', '유동', '인구', '지역', '자산', '지점', '입지']\n",
      "8\n"
     ]
    }
   ],
   "source": [
    "def stopwords_processing(token,tokenizer):\n",
    "    \n",
    "    stopwords = [\n",
    " '영위'\n",
    ",'당사'\n",
    ",'형태'\n",
    ",'변화'\n",
    ",'반영'\n",
    ",'예측'\n",
    ",'본사'\n",
    ",'주요'\n",
    ",'수준'\n",
    ",'고려'\n",
    ",'후보'\n",
    ",'모델'\n",
    ",'모형'\n",
    ",'개발'\n",
    ",'검토'\n",
    ",'데이터']  \n",
    "    token = [t for t in token if t not in stopwords]       \n",
    "    return token\n",
    "\n",
    "tokens= stopwords_processing(tokens,tokenizer)\n",
    "print(tokens)\n",
    "print(len(tokens))"
   ]
  },
  {
   "cell_type": "markdown",
   "metadata": {},
   "source": [
    "#### Step3. NLP process를 통한 \"키워드 리스트\"를 활용하여 SQL 동적작성 및 실행\n",
    "\n",
    "고려사항 <br>\n",
    "\n",
    "(1) 하기 3개의 Case를 조회하면 중복 데이터가 발생할 것.\n",
    "이를 한번 더 싸서 중복카운트가 높은 데이터순으로 화면에 출력해 주는 방식도 고려하면 좋음\n",
    "<br>\n",
    "(2) Limit 고려 (최대 200 개)\n",
    "<br>\n",
    "(3) 화면에 출력시 현재 화면의 \"결합속성명\"은 제외할 것, 맥락에 안맞음\n",
    "<br>\n",
    "(4) DB에 따라 하기와 같이 regexp_like 문 활용하면 SQL 동적작성이 편함\n",
    "WHERE regexp_like(name, 'AA|BB|DD')"
   ]
  },
  {
   "cell_type": "code",
   "execution_count": null,
   "metadata": {},
   "outputs": [],
   "source": [
    "## SQL 예시\n",
    "\n",
    "-- Case1 : 데이터명에 like 검색\n",
    "select 산업, 데이터명, 제공처, 갱진주기, 유료/무료 ,가격\n",
    "  from accurator_master\n",
    " where 1=1\n",
    "   and ( data_nm like '%프랜차이즈%' or  \n",
    "         data_nm like '%교통량%' or\n",
    "         data_nm like '%유동%' or\n",
    "         data_nm like '%인구%' or\n",
    "         data_nm like '%지역%' or\n",
    "         data_nm like '%자산%' or\n",
    "         data_nm like '%지점%' or\n",
    "         data_nm like '%입지%' )\n",
    "         \n",
    "union all\n",
    "-- case2 : Curation Thema명에 like검색\n",
    "select 산업, 데이터명, 제공처, 갱진주기, 유료/무료 ,가격\n",
    "  from accurator_curation_master\n",
    " where 1=1\n",
    "   and ( 큐레아션추천소분류  like '%프랜차이즈%' or  \n",
    "         큐레아션추천소분류 like '%교통량%' or\n",
    "         큐레아션추천소분류 like '%유동%' or\n",
    "         큐레아션추천소분류 like '%인구%' or\n",
    "         큐레아션추천소분류 like '%지역%' or\n",
    "         큐레아션추천소분류 like '%자산%' or\n",
    "         큐레아션추천소분류 like '%지점%' or\n",
    "         큐레아션추천소분류 like '%입지%' )\n",
    " \n",
    " union all \n",
    "-- case3 : 결합키에 like검색\n",
    "select 산업, 데이터명, 제공처, 갱진주기, 유료/무료 ,가격\n",
    "  from accurator_master\n",
    " where 1=1\n",
    "   and ( 결합키  like '%프랜차이즈%' or  \n",
    "         결합키  like '%교통량%' or\n",
    "         결합키  like '%유동%' or\n",
    "         결합키  like '%인구%' or\n",
    "         결합키  like '%지역%' or\n",
    "         결합키  like '%자산%' or\n",
    "         결합키  like '%지점%' or\n",
    "         결힙키  like '%입지%' )"
   ]
  }
 ],
 "metadata": {
  "kernelspec": {
   "display_name": "Python 3.10.5 64-bit (windows store)",
   "language": "python",
   "name": "python3"
  },
  "language_info": {
   "codemirror_mode": {
    "name": "ipython",
    "version": 3
   },
   "file_extension": ".py",
   "mimetype": "text/x-python",
   "name": "python",
   "nbconvert_exporter": "python",
   "pygments_lexer": "ipython3",
   "version": "3.10.5"
  },
  "vscode": {
   "interpreter": {
    "hash": "bd20613781226db0ebc240074489a787c1feaef457c846d75dee6b6c48dca548"
   }
  }
 },
 "nbformat": 4,
 "nbformat_minor": 4
}
